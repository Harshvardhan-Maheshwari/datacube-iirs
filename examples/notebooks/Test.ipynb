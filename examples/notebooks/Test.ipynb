{
 "cells": [
  {
   "cell_type": "code",
   "execution_count": 2,
   "metadata": {
    "collapsed": false
   },
   "outputs": [],
   "source": [
    "import datacube\n",
    "import xarray\n",
    "from datetime import datetime\n",
    "#from datacube.api.core import get_crs\n",
    "from datacube.ndexpr import NDexpr\n",
    "from datacube.api import API\n",
    "from datacube.execution import execution_engine"
   ]
  },
  {
   "cell_type": "code",
   "execution_count": 3,
   "metadata": {
    "collapsed": true
   },
   "outputs": [],
   "source": [
    "%matplotlib inline"
   ]
  },
  {
   "cell_type": "code",
   "execution_count": 4,
   "metadata": {
    "collapsed": true
   },
   "outputs": [],
   "source": [
    "# Instantiating API and NDexpr\n",
    "g = API()\n",
    "nd = NDexpr()"
   ]
  },
  {
   "cell_type": "code",
   "execution_count": 24,
   "metadata": {
    "collapsed": false
   },
   "outputs": [],
   "source": [
    "# construct data request params for band3 and band4\n",
    "data_req_descriptor = {\n",
    "    'platform': 'LANDSAT_8',\n",
    "    'product': 'LEDAPS',\n",
    "    'variables': ('red', 'nir'),\n",
    "    'dimensions':{\n",
    "        'x': {\n",
    "            'range':(213539.9, 218463.5)\n",
    "        },\n",
    "        'y':{\n",
    "            'range':(3433466.7, 3438883.6)\n",
    "        },\n",
    "        'time':{\n",
    "            'range':(datetime(1995, 1, 1), datetime(1995, 12, 31))\n",
    "        }\n",
    "    }\n",
    " }"
   ]
  },
  {
   "cell_type": "code",
   "execution_count": 25,
   "metadata": {
    "collapsed": true
   },
   "outputs": [],
   "source": [
    "#retrieve data from api\n",
    "d1 = g.get_data(data_req_descriptor)"
   ]
  },
  {
   "cell_type": "code",
   "execution_count": 26,
   "metadata": {
    "collapsed": false
   },
   "outputs": [
    {
     "data": {
      "text/plain": [
       "{}"
      ]
     },
     "execution_count": 26,
     "metadata": {},
     "output_type": "execute_result"
    }
   ],
   "source": [
    "d1"
   ]
  },
  {
   "cell_type": "code",
   "execution_count": null,
   "metadata": {
    "collapsed": true
   },
   "outputs": [],
   "source": []
  },
  {
   "cell_type": "code",
   "execution_count": null,
   "metadata": {
    "collapsed": true
   },
   "outputs": [],
   "source": []
  },
  {
   "cell_type": "code",
   "execution_count": null,
   "metadata": {
    "collapsed": true
   },
   "outputs": [],
   "source": []
  },
  {
   "cell_type": "code",
   "execution_count": 15,
   "metadata": {
    "collapsed": true
   },
   "outputs": [],
   "source": [
    "dc = datacube.Datacube(config='~/.datacube.conf')"
   ]
  },
  {
   "cell_type": "code",
   "execution_count": 16,
   "metadata": {
    "collapsed": false
   },
   "outputs": [],
   "source": [
    "agdc_api = datacube.api._api.API()"
   ]
  },
  {
   "cell_type": "code",
   "execution_count": 17,
   "metadata": {
    "collapsed": false
   },
   "outputs": [
    {
     "data": {
      "text/plain": [
       "Index<db=PostgresDb<engine=Engine(postgresql://rishabh@:5432/datacube)>>"
      ]
     },
     "execution_count": 17,
     "metadata": {},
     "output_type": "execute_result"
    }
   ],
   "source": [
    "dc.index"
   ]
  },
  {
   "cell_type": "code",
   "execution_count": 18,
   "metadata": {
    "collapsed": false
   },
   "outputs": [
    {
     "data": {
      "text/plain": [
       "<generator object list_users at 0x9ca9e9b4>"
      ]
     },
     "execution_count": 18,
     "metadata": {},
     "output_type": "execute_result"
    }
   ],
   "source": [
    "datacube.index._api.Index.list_users(dc.index)"
   ]
  },
  {
   "cell_type": "code",
   "execution_count": 19,
   "metadata": {
    "collapsed": false
   },
   "outputs": [],
   "source": [
    "#datacube.api.API.get_descriptor(agdc_api)"
   ]
  },
  {
   "cell_type": "code",
   "execution_count": 20,
   "metadata": {
    "collapsed": false
   },
   "outputs": [
    {
     "data": {
      "text/plain": [
       "<datacube.execution.execution_engine.ExecutionEngine at 0x9cb847cc>"
      ]
     },
     "execution_count": 20,
     "metadata": {},
     "output_type": "execute_result"
    }
   ],
   "source": [
    "exe = execution_engine.ExecutionEngine()\n",
    "exe"
   ]
  },
  {
   "cell_type": "code",
   "execution_count": 21,
   "metadata": {
    "collapsed": false
   },
   "outputs": [],
   "source": [
    "exe.add_function('max', max)"
   ]
  },
  {
   "cell_type": "code",
   "execution_count": null,
   "metadata": {
    "collapsed": false
   },
   "outputs": [],
   "source": []
  },
  {
   "cell_type": "code",
   "execution_count": null,
   "metadata": {
    "collapsed": true
   },
   "outputs": [],
   "source": []
  },
  {
   "cell_type": "code",
   "execution_count": null,
   "metadata": {
    "collapsed": true
   },
   "outputs": [],
   "source": []
  },
  {
   "cell_type": "code",
   "execution_count": null,
   "metadata": {
    "collapsed": true
   },
   "outputs": [],
   "source": []
  },
  {
   "cell_type": "code",
   "execution_count": null,
   "metadata": {
    "collapsed": true
   },
   "outputs": [],
   "source": []
  },
  {
   "cell_type": "code",
   "execution_count": 22,
   "metadata": {
    "collapsed": false
   },
   "outputs": [
    {
     "data": {
      "text/html": [
       "<div>\n",
       "<table border=\"1\" class=\"dataframe\">\n",
       "  <thead>\n",
       "    <tr style=\"text-align: right;\">\n",
       "      <th></th>\n",
       "      <th></th>\n",
       "      <th>aliases</th>\n",
       "      <th>dtype</th>\n",
       "      <th>name</th>\n",
       "      <th>nodata</th>\n",
       "      <th>spectral_definition</th>\n",
       "      <th>units</th>\n",
       "    </tr>\n",
       "    <tr>\n",
       "      <th>product</th>\n",
       "      <th>measurement</th>\n",
       "      <th></th>\n",
       "      <th></th>\n",
       "      <th></th>\n",
       "      <th></th>\n",
       "      <th></th>\n",
       "      <th></th>\n",
       "    </tr>\n",
       "  </thead>\n",
       "  <tbody>\n",
       "    <tr>\n",
       "      <th rowspan=\"5\" valign=\"top\">ls8_ledaps_scene</th>\n",
       "      <th>sr_band2</th>\n",
       "      <td>[band_2, blue]</td>\n",
       "      <td>int16</td>\n",
       "      <td>sr_band2</td>\n",
       "      <td>0</td>\n",
       "      <td>{u'wavelength': [436, 437, 438, 439, 440, 441,...</td>\n",
       "      <td>1</td>\n",
       "    </tr>\n",
       "    <tr>\n",
       "      <th>sr_band3</th>\n",
       "      <td>[band_3, green]</td>\n",
       "      <td>int16</td>\n",
       "      <td>sr_band3</td>\n",
       "      <td>-9999</td>\n",
       "      <td>{u'wavelength': [512, 513, 514, 515, 516, 517,...</td>\n",
       "      <td>1</td>\n",
       "    </tr>\n",
       "    <tr>\n",
       "      <th>sr_band4</th>\n",
       "      <td>[band_4, red]</td>\n",
       "      <td>int16</td>\n",
       "      <td>sr_band4</td>\n",
       "      <td>-9999</td>\n",
       "      <td>{u'wavelength': [625, 626, 627, 628, 629, 630,...</td>\n",
       "      <td>1</td>\n",
       "    </tr>\n",
       "    <tr>\n",
       "      <th>sr_band5</th>\n",
       "      <td>[band_5, nir]</td>\n",
       "      <td>int16</td>\n",
       "      <td>sr_band5</td>\n",
       "      <td>-9999</td>\n",
       "      <td>{u'wavelength': [829, 830, 831, 832, 833, 834,...</td>\n",
       "      <td>1</td>\n",
       "    </tr>\n",
       "    <tr>\n",
       "      <th>sr_band6</th>\n",
       "      <td>[band_6, swir1]</td>\n",
       "      <td>int16</td>\n",
       "      <td>sr_band6</td>\n",
       "      <td>-9999</td>\n",
       "      <td>{u'wavelength': [1515, 1516, 1517, 1518, 1519,...</td>\n",
       "      <td>1</td>\n",
       "    </tr>\n",
       "    <tr>\n",
       "      <th rowspan=\"5\" valign=\"top\">ls8_ledaps_albers</th>\n",
       "      <th>blue</th>\n",
       "      <td>[band_2, blue]</td>\n",
       "      <td>int16</td>\n",
       "      <td>blue</td>\n",
       "      <td>-9999</td>\n",
       "      <td>{u'wavelength': [436, 437, 438, 439, 440, 441,...</td>\n",
       "      <td>1</td>\n",
       "    </tr>\n",
       "    <tr>\n",
       "      <th>green</th>\n",
       "      <td>[band_3, green]</td>\n",
       "      <td>int16</td>\n",
       "      <td>green</td>\n",
       "      <td>-9999</td>\n",
       "      <td>{u'wavelength': [512, 513, 514, 515, 516, 517,...</td>\n",
       "      <td>1</td>\n",
       "    </tr>\n",
       "    <tr>\n",
       "      <th>red</th>\n",
       "      <td>[band_4, red]</td>\n",
       "      <td>int16</td>\n",
       "      <td>red</td>\n",
       "      <td>-9999</td>\n",
       "      <td>{u'wavelength': [625, 626, 627, 628, 629, 630,...</td>\n",
       "      <td>1</td>\n",
       "    </tr>\n",
       "    <tr>\n",
       "      <th>nir</th>\n",
       "      <td>[band_5, nir]</td>\n",
       "      <td>int16</td>\n",
       "      <td>nir</td>\n",
       "      <td>-9999</td>\n",
       "      <td>{u'wavelength': [829, 830, 831, 832, 833, 834,...</td>\n",
       "      <td>1</td>\n",
       "    </tr>\n",
       "    <tr>\n",
       "      <th>swir1</th>\n",
       "      <td>[band_6, swir1]</td>\n",
       "      <td>int16</td>\n",
       "      <td>swir1</td>\n",
       "      <td>-9999</td>\n",
       "      <td>{u'wavelength': [1515, 1516, 1517, 1518, 1519,...</td>\n",
       "      <td>1</td>\n",
       "    </tr>\n",
       "  </tbody>\n",
       "</table>\n",
       "</div>"
      ],
      "text/plain": [
       "                                       aliases  dtype      name  nodata  \\\n",
       "product           measurement                                             \n",
       "ls8_ledaps_scene  sr_band2      [band_2, blue]  int16  sr_band2       0   \n",
       "                  sr_band3     [band_3, green]  int16  sr_band3   -9999   \n",
       "                  sr_band4       [band_4, red]  int16  sr_band4   -9999   \n",
       "                  sr_band5       [band_5, nir]  int16  sr_band5   -9999   \n",
       "                  sr_band6     [band_6, swir1]  int16  sr_band6   -9999   \n",
       "ls8_ledaps_albers blue          [band_2, blue]  int16      blue   -9999   \n",
       "                  green        [band_3, green]  int16     green   -9999   \n",
       "                  red            [band_4, red]  int16       red   -9999   \n",
       "                  nir            [band_5, nir]  int16       nir   -9999   \n",
       "                  swir1        [band_6, swir1]  int16     swir1   -9999   \n",
       "\n",
       "                                                             spectral_definition  \\\n",
       "product           measurement                                                      \n",
       "ls8_ledaps_scene  sr_band2     {u'wavelength': [436, 437, 438, 439, 440, 441,...   \n",
       "                  sr_band3     {u'wavelength': [512, 513, 514, 515, 516, 517,...   \n",
       "                  sr_band4     {u'wavelength': [625, 626, 627, 628, 629, 630,...   \n",
       "                  sr_band5     {u'wavelength': [829, 830, 831, 832, 833, 834,...   \n",
       "                  sr_band6     {u'wavelength': [1515, 1516, 1517, 1518, 1519,...   \n",
       "ls8_ledaps_albers blue         {u'wavelength': [436, 437, 438, 439, 440, 441,...   \n",
       "                  green        {u'wavelength': [512, 513, 514, 515, 516, 517,...   \n",
       "                  red          {u'wavelength': [625, 626, 627, 628, 629, 630,...   \n",
       "                  nir          {u'wavelength': [829, 830, 831, 832, 833, 834,...   \n",
       "                  swir1        {u'wavelength': [1515, 1516, 1517, 1518, 1519,...   \n",
       "\n",
       "                              units  \n",
       "product           measurement        \n",
       "ls8_ledaps_scene  sr_band2        1  \n",
       "                  sr_band3        1  \n",
       "                  sr_band4        1  \n",
       "                  sr_band5        1  \n",
       "                  sr_band6        1  \n",
       "ls8_ledaps_albers blue            1  \n",
       "                  green           1  \n",
       "                  red             1  \n",
       "                  nir             1  \n",
       "                  swir1           1  "
      ]
     },
     "execution_count": 22,
     "metadata": {},
     "output_type": "execute_result"
    }
   ],
   "source": [
    "dc.list_measurements()"
   ]
  },
  {
   "cell_type": "code",
   "execution_count": 23,
   "metadata": {
    "collapsed": false
   },
   "outputs": [
    {
     "data": {
      "text/html": [
       "<div>\n",
       "<table border=\"1\" class=\"dataframe\">\n",
       "  <thead>\n",
       "    <tr style=\"text-align: right;\">\n",
       "      <th></th>\n",
       "      <th>name</th>\n",
       "      <th>description</th>\n",
       "      <th>platform</th>\n",
       "      <th>product_type</th>\n",
       "      <th>instrument</th>\n",
       "      <th>format</th>\n",
       "      <th>crs</th>\n",
       "      <th>resolution</th>\n",
       "      <th>tile_size</th>\n",
       "      <th>spatial_dimensions</th>\n",
       "    </tr>\n",
       "    <tr>\n",
       "      <th>id</th>\n",
       "      <th></th>\n",
       "      <th></th>\n",
       "      <th></th>\n",
       "      <th></th>\n",
       "      <th></th>\n",
       "      <th></th>\n",
       "      <th></th>\n",
       "      <th></th>\n",
       "      <th></th>\n",
       "      <th></th>\n",
       "    </tr>\n",
       "  </thead>\n",
       "  <tbody>\n",
       "    <tr>\n",
       "      <th>1</th>\n",
       "      <td>ls8_ledaps_scene</td>\n",
       "      <td>Landsat 8 LEDAPS 25 metre</td>\n",
       "      <td>LANDSAT_8</td>\n",
       "      <td>LEDAPS</td>\n",
       "      <td>OLI_TIRS</td>\n",
       "      <td>GeoTiff</td>\n",
       "      <td>NaN</td>\n",
       "      <td>NaN</td>\n",
       "      <td>NaN</td>\n",
       "      <td>NaN</td>\n",
       "    </tr>\n",
       "    <tr>\n",
       "      <th>2</th>\n",
       "      <td>ls8_ledaps_albers</td>\n",
       "      <td>Landsat 8 LEDAPS 25 metre, 100km tile, Indian ...</td>\n",
       "      <td>LANDSAT_8</td>\n",
       "      <td>LEDAPS</td>\n",
       "      <td>OLI_TIRS</td>\n",
       "      <td>NetCDF</td>\n",
       "      <td>EPSG:32644</td>\n",
       "      <td>[-25, 25]</td>\n",
       "      <td>[100000.0, 100000.0]</td>\n",
       "      <td>(y, x)</td>\n",
       "    </tr>\n",
       "  </tbody>\n",
       "</table>\n",
       "</div>"
      ],
      "text/plain": [
       "                 name                                        description  \\\n",
       "id                                                                         \n",
       "1    ls8_ledaps_scene                          Landsat 8 LEDAPS 25 metre   \n",
       "2   ls8_ledaps_albers  Landsat 8 LEDAPS 25 metre, 100km tile, Indian ...   \n",
       "\n",
       "     platform product_type instrument   format         crs resolution  \\\n",
       "id                                                                      \n",
       "1   LANDSAT_8       LEDAPS   OLI_TIRS  GeoTiff         NaN        NaN   \n",
       "2   LANDSAT_8       LEDAPS   OLI_TIRS   NetCDF  EPSG:32644  [-25, 25]   \n",
       "\n",
       "               tile_size spatial_dimensions  \n",
       "id                                           \n",
       "1                    NaN                NaN  \n",
       "2   [100000.0, 100000.0]             (y, x)  "
      ]
     },
     "execution_count": 23,
     "metadata": {},
     "output_type": "execute_result"
    }
   ],
   "source": [
    "dc.list_products()"
   ]
  },
  {
   "cell_type": "code",
   "execution_count": 8,
   "metadata": {
    "collapsed": false
   },
   "outputs": [
    {
     "name": "stderr",
     "output_type": "stream",
     "text": [
      "/usr/lib/python2.7/contextlib.py:17: FutureWarning: The value of this property will change in version 1.0. Please see https://github.com/mapbox/rasterio/issues/86 for details.\n",
      "  return self.gen.next()\n"
     ]
    }
   ],
   "source": [
    " var = dc.load(product = 'ls8_ledaps_albers',\n",
    "              x = (213539.9, 218463.5),\n",
    "              y = (3433466.7, 3438883.6),\n",
    "                )\n",
    "var2 = dc.load(output_crs = 'EPSG:32644', product = 'ls8_ledaps_albers', x = (213539.9, 218463.5), y = (3433466.7, 3438883.6))\n",
    "var3 = dc.load(output_crs = 'EPSG:4326', product = 'ls8_ledaps_albers', x = (213539.9, 218463.5), y = (3433466.7, 3438883.6))"
   ]
  },
  {
   "cell_type": "code",
   "execution_count": 9,
   "metadata": {
    "collapsed": false
   },
   "outputs": [
    {
     "data": {
      "text/plain": [
       "<xarray.Dataset>\n",
       "Dimensions:  (time: 1, x: 198, y: 218)\n",
       "Coordinates:\n",
       "  * time     (time) datetime64[ns] 2015-02-12T05:17:41\n",
       "  * y        (y) float64 3.439e+06 3.439e+06 3.439e+06 3.439e+06 3.439e+06 ...\n",
       "  * x        (x) float64 2.135e+05 2.136e+05 2.136e+05 2.136e+05 2.136e+05 ...\n",
       "Data variables:\n",
       "    blue     (time, y, x) int16 7862 7627 7458 7458 7422 7495 7594 7576 7544 ...\n",
       "    green    (time, y, x) int16 7306 6857 6508 6508 6403 6607 6856 6788 6674 ...\n",
       "    red      (time, y, x) int16 6889 6411 5953 5953 5888 6018 6218 6186 6100 ...\n",
       "    nir      (time, y, x) int16 11511 9161 7032 7032 6068 7930 9804 9516 ...\n",
       "    swir1    (time, y, x) int16 9060 7378 5853 5853 5389 6038 6860 6727 6448 ...\n",
       "Attributes:\n",
       "    crs: EPSG:32644"
      ]
     },
     "execution_count": 9,
     "metadata": {},
     "output_type": "execute_result"
    }
   ],
   "source": [
    "var"
   ]
  },
  {
   "cell_type": "code",
   "execution_count": 10,
   "metadata": {
    "collapsed": false
   },
   "outputs": [
    {
     "data": {
      "text/plain": [
       "GridSpec(crs=EPSG:32644, tile_size=[100000.0, 100000.0], resolution=[-25, 25])"
      ]
     },
     "execution_count": 10,
     "metadata": {},
     "output_type": "execute_result"
    }
   ],
   "source": [
    "dc.grid_spec_for_product('ls8_ledaps_albers')"
   ]
  },
  {
   "cell_type": "code",
   "execution_count": 11,
   "metadata": {
    "collapsed": false
   },
   "outputs": [
    {
     "data": {
      "text/plain": [
       "EPSG:32644"
      ]
     },
     "execution_count": 11,
     "metadata": {},
     "output_type": "execute_result"
    }
   ],
   "source": [
    "var.crs"
   ]
  },
  {
   "cell_type": "code",
   "execution_count": 12,
   "metadata": {
    "collapsed": false
   },
   "outputs": [
    {
     "data": {
      "text/plain": [
       "EPSG:32644"
      ]
     },
     "execution_count": 12,
     "metadata": {},
     "output_type": "execute_result"
    }
   ],
   "source": [
    "var2.crs"
   ]
  },
  {
   "cell_type": "code",
   "execution_count": 13,
   "metadata": {
    "collapsed": false
   },
   "outputs": [
    {
     "data": {
      "text/plain": [
       "EPSG:4326"
      ]
     },
     "execution_count": 13,
     "metadata": {},
     "output_type": "execute_result"
    }
   ],
   "source": [
    "var3.crs"
   ]
  },
  {
   "cell_type": "code",
   "execution_count": 14,
   "metadata": {
    "collapsed": false
   },
   "outputs": [
    {
     "data": {
      "text/plain": [
       "<bound method Dataset.items of <xarray.Dataset>\n",
       "Dimensions:  (time: 1, x: 198, y: 218)\n",
       "Coordinates:\n",
       "  * time     (time) datetime64[ns] 2015-02-12T05:17:41\n",
       "  * y        (y) float64 3.439e+06 3.439e+06 3.439e+06 3.439e+06 3.439e+06 ...\n",
       "  * x        (x) float64 2.135e+05 2.136e+05 2.136e+05 2.136e+05 2.136e+05 ...\n",
       "Data variables:\n",
       "    blue     (time, y, x) int16 7862 7627 7458 7458 7422 7495 7594 7576 7544 ...\n",
       "    green    (time, y, x) int16 7306 6857 6508 6508 6403 6607 6856 6788 6674 ...\n",
       "    red      (time, y, x) int16 6889 6411 5953 5953 5888 6018 6218 6186 6100 ...\n",
       "    nir      (time, y, x) int16 11511 9161 7032 7032 6068 7930 9804 9516 ...\n",
       "    swir1    (time, y, x) int16 9060 7378 5853 5853 5389 6038 6860 6727 6448 ...\n",
       "Attributes:\n",
       "    crs: EPSG:32644>"
      ]
     },
     "execution_count": 14,
     "metadata": {},
     "output_type": "execute_result"
    }
   ],
   "source": [
    "var.items"
   ]
  },
  {
   "cell_type": "code",
   "execution_count": 15,
   "metadata": {
    "collapsed": false
   },
   "outputs": [
    {
     "data": {
      "text/plain": [
       "<bound method Dataset.items of <xarray.Dataset>\n",
       "Dimensions:  (time: 1, x: 198, y: 218)\n",
       "Coordinates:\n",
       "  * time     (time) datetime64[ns] 2015-02-12T05:17:41\n",
       "  * y        (y) float64 3.439e+06 3.439e+06 3.439e+06 3.439e+06 3.439e+06 ...\n",
       "  * x        (x) float64 2.135e+05 2.136e+05 2.136e+05 2.136e+05 2.136e+05 ...\n",
       "Data variables:\n",
       "    blue     (time, y, x) int16 7862 7627 7458 7458 7422 7495 7594 7576 7544 ...\n",
       "    green    (time, y, x) int16 7306 6857 6508 6508 6403 6607 6856 6788 6674 ...\n",
       "    red      (time, y, x) int16 6889 6411 5953 5953 5888 6018 6218 6186 6100 ...\n",
       "    nir      (time, y, x) int16 11511 9161 7032 7032 6068 7930 9804 9516 ...\n",
       "    swir1    (time, y, x) int16 9060 7378 5853 5853 5389 6038 6860 6727 6448 ...\n",
       "Attributes:\n",
       "    crs: EPSG:32644>"
      ]
     },
     "execution_count": 15,
     "metadata": {},
     "output_type": "execute_result"
    }
   ],
   "source": [
    "var2.items"
   ]
  },
  {
   "cell_type": "code",
   "execution_count": 16,
   "metadata": {
    "collapsed": false
   },
   "outputs": [
    {
     "data": {
      "text/plain": [
       "<bound method Dataset.items of <xarray.Dataset>\n",
       "Dimensions:    (latitude: 1, longitude: 1, time: 1, x: 1, y: 1)\n",
       "Coordinates:\n",
       "  * time       (time) datetime64[ns] 2015-02-12T05:17:41\n",
       "  * latitude   (latitude) float64 37.5\n",
       "  * longitude  (longitude) float64 87.5\n",
       "  * x          (x) int64 0\n",
       "  * y          (y) int64 0\n",
       "Data variables:\n",
       "    blue       (time, y, x) int16 -9999\n",
       "    green      (time, y, x) int16 -9999\n",
       "    red        (time, y, x) int16 -9999\n",
       "    nir        (time, y, x) int16 -9999\n",
       "    swir1      (time, y, x) int16 -9999\n",
       "Attributes:\n",
       "    crs: EPSG:4326>"
      ]
     },
     "execution_count": 16,
     "metadata": {},
     "output_type": "execute_result"
    }
   ],
   "source": [
    "var3.items"
   ]
  },
  {
   "cell_type": "code",
   "execution_count": 17,
   "metadata": {
    "collapsed": false
   },
   "outputs": [],
   "source": [
    "green  = var.green"
   ]
  },
  {
   "cell_type": "code",
   "execution_count": 18,
   "metadata": {
    "collapsed": false
   },
   "outputs": [
    {
     "data": {
      "text/plain": [
       "<xarray.DataArray 'green' (time: 1, y: 218, x: 198)>\n",
       "array([[[7306, 6857, 6508, ..., 8205, 7870, 7873],\n",
       "        [6514, 6428, 6444, ..., 8365, 8189, 7915],\n",
       "        [6455, 6482, 6452, ..., 8099, 8152, 8060],\n",
       "        ..., \n",
       "        [7570, 6631, 6553, ..., 7022, 6968, 6895],\n",
       "        [7570, 6631, 6553, ..., 7022, 6968, 6895],\n",
       "        [7494, 6675, 6582, ..., 7027, 6905, 6943]]], dtype=int16)\n",
       "Coordinates:\n",
       "  * time     (time) datetime64[ns] 2015-02-12T05:17:41\n",
       "  * y        (y) float64 3.439e+06 3.439e+06 3.439e+06 3.439e+06 3.439e+06 ...\n",
       "  * x        (x) float64 2.135e+05 2.136e+05 2.136e+05 2.136e+05 2.136e+05 ...\n",
       "Attributes:\n",
       "    units: 1\n",
       "    spectral_definition: {u'wavelength': [512, 513, 514, 515, 516, 517, 518, 519, 520, 521, 522, 523, 524, 525, 526, 527, 528, 529, 530, 531, 532, 533, 534, 535, 536, 537, 538, 539, 540, 541, 542, 543, 544, 545, 546, 547, 548, 549, 550, 551, 552, 553, 554, 555, 556, 557, 558, 559, 560, 561, 562, 563, 564, 565, 566, 567, 568, 569, 570, 571, 572, 573, 574, 575, 576, 577, 578, 579, 580, 581, 582, 583, 584, 585, 586, 587, 588, 589, 590, 591, 592, 593, 594, 595, 596, 597, 598, 599, 600, 601, 602, 603, 604, 605, 606, 607, ...\n",
       "    nodata: -9999"
      ]
     },
     "execution_count": 18,
     "metadata": {},
     "output_type": "execute_result"
    }
   ],
   "source": [
    "green"
   ]
  },
  {
   "cell_type": "code",
   "execution_count": 19,
   "metadata": {
    "collapsed": false
   },
   "outputs": [
    {
     "data": {
      "text/plain": [
       "<xarray.DataArray 'green' (time: 1, y: 1, x: 1)>\n",
       "array([[[-9999]]], dtype=int16)\n",
       "Coordinates:\n",
       "  * time     (time) datetime64[ns] 2015-02-12T05:17:41\n",
       "  * x        (x) int64 0\n",
       "  * y        (y) int64 0\n",
       "Attributes:\n",
       "    units: 1\n",
       "    spectral_definition: {u'wavelength': [512, 513, 514, 515, 516, 517, 518, 519, 520, 521, 522, 523, 524, 525, 526, 527, 528, 529, 530, 531, 532, 533, 534, 535, 536, 537, 538, 539, 540, 541, 542, 543, 544, 545, 546, 547, 548, 549, 550, 551, 552, 553, 554, 555, 556, 557, 558, 559, 560, 561, 562, 563, 564, 565, 566, 567, 568, 569, 570, 571, 572, 573, 574, 575, 576, 577, 578, 579, 580, 581, 582, 583, 584, 585, 586, 587, 588, 589, 590, 591, 592, 593, 594, 595, 596, 597, 598, 599, 600, 601, 602, 603, 604, 605, 606, 607, ...\n",
       "    nodata: -9999"
      ]
     },
     "execution_count": 19,
     "metadata": {},
     "output_type": "execute_result"
    }
   ],
   "source": [
    "var3.green"
   ]
  },
  {
   "cell_type": "code",
   "execution_count": 20,
   "metadata": {
    "collapsed": false
   },
   "outputs": [
    {
     "data": {
      "text/plain": [
       "(1, 218, 198)"
      ]
     },
     "execution_count": 20,
     "metadata": {},
     "output_type": "execute_result"
    }
   ],
   "source": [
    "a = green.loc['2015']\n",
    "a.shape"
   ]
  },
  {
   "cell_type": "code",
   "execution_count": 21,
   "metadata": {
    "collapsed": false
   },
   "outputs": [
    {
     "data": {
      "text/plain": [
       "<xarray.DataArray 'green' (time: 1, y: 218, x: 198)>\n",
       "array([[[7306, 6857, 6508, ..., 8205, 7870, 7873],\n",
       "        [6514, 6428, 6444, ..., 8365, 8189, 7915],\n",
       "        [6455, 6482, 6452, ..., 8099, 8152, 8060],\n",
       "        ..., \n",
       "        [7570, 6631, 6553, ..., 7022, 6968, 6895],\n",
       "        [7570, 6631, 6553, ..., 7022, 6968, 6895],\n",
       "        [7494, 6675, 6582, ..., 7027, 6905, 6943]]], dtype=int16)\n",
       "Coordinates:\n",
       "  * time     (time) datetime64[ns] 2015-02-12T05:17:41\n",
       "  * y        (y) float64 3.439e+06 3.439e+06 3.439e+06 3.439e+06 3.439e+06 ...\n",
       "  * x        (x) float64 2.135e+05 2.136e+05 2.136e+05 2.136e+05 2.136e+05 ...\n",
       "Attributes:\n",
       "    units: 1\n",
       "    spectral_definition: {u'wavelength': [512, 513, 514, 515, 516, 517, 518, 519, 520, 521, 522, 523, 524, 525, 526, 527, 528, 529, 530, 531, 532, 533, 534, 535, 536, 537, 538, 539, 540, 541, 542, 543, 544, 545, 546, 547, 548, 549, 550, 551, 552, 553, 554, 555, 556, 557, 558, 559, 560, 561, 562, 563, 564, 565, 566, 567, 568, 569, 570, 571, 572, 573, 574, 575, 576, 577, 578, 579, 580, 581, 582, 583, 584, 585, 586, 587, 588, 589, 590, 591, 592, 593, 594, 595, 596, 597, 598, 599, 600, 601, 602, 603, 604, 605, 606, 607, ...\n",
       "    nodata: -9999"
      ]
     },
     "execution_count": 21,
     "metadata": {},
     "output_type": "execute_result"
    }
   ],
   "source": [
    "a"
   ]
  },
  {
   "cell_type": "code",
   "execution_count": 22,
   "metadata": {
    "collapsed": false
   },
   "outputs": [
    {
     "data": {
      "text/plain": [
       "<matplotlib.collections.QuadMesh at 0x9f39b46c>"
      ]
     },
     "execution_count": 22,
     "metadata": {},
     "output_type": "execute_result"
    },
    {
     "data": {
      "image/png": "[encoded data removed]",
      "text/plain": [
       "<matplotlib.figure.Figure at 0x9f3bcdcc>"
      ]
     },
     "metadata": {},
     "output_type": "display_data"
    }
   ],
   "source": [
    "a.plot()\n"
   ]
  },
  {
   "cell_type": "code",
   "execution_count": 23,
   "metadata": {
    "collapsed": false
   },
   "outputs": [
    {
     "data": {
      "text/plain": [
       "(array([ 0.,  0.,  0.,  0.,  0.,  1.,  0.,  0.,  0.,  0.]),\n",
       " array([-9999.5, -9999.4, -9999.3, -9999.2, -9999.1, -9999. , -9998.9,\n",
       "        -9998.8, -9998.7, -9998.6, -9998.5]),\n",
       " <a list of 10 Patch objects>)"
      ]
     },
     "execution_count": 23,
     "metadata": {},
     "output_type": "execute_result"
    },
    {
     "data": {
      "image/png": "[encoded data removed]",
      "text/plain": [
       "<matplotlib.figure.Figure at 0x9f303b4c>"
      ]
     },
     "metadata": {},
     "output_type": "display_data"
    }
   ],
   "source": [
    "var3.green.loc['2015'].plot()"
   ]
  },
  {
   "cell_type": "code",
   "execution_count": null,
   "metadata": {
    "collapsed": true
   },
   "outputs": [],
   "source": []
  },
  {
   "cell_type": "code",
   "execution_count": null,
   "metadata": {
    "collapsed": true
   },
   "outputs": [],
   "source": []
  },
  {
   "cell_type": "code",
   "execution_count": null,
   "metadata": {
    "collapsed": true
   },
   "outputs": [],
   "source": []
  },
  {
   "cell_type": "code",
   "execution_count": null,
   "metadata": {
    "collapsed": true
   },
   "outputs": [],
   "source": []
  },
  {
   "cell_type": "code",
   "execution_count": null,
   "metadata": {
    "collapsed": true
   },
   "outputs": [],
   "source": []
  },
  {
   "cell_type": "code",
   "execution_count": null,
   "metadata": {
    "collapsed": true
   },
   "outputs": [],
   "source": []
  }
 ],
 "metadata": {
  "kernelspec": {
   "display_name": "Python 2",
   "language": "python",
   "name": "python2"
  },
  "language_info": {
   "codemirror_mode": {
    "name": "ipython",
    "version": 2
   },
   "file_extension": ".py",
   "mimetype": "text/x-python",
   "name": "python",
   "nbconvert_exporter": "python",
   "pygments_lexer": "ipython2",
   "version": "2.7.11+"
  }
 },
 "nbformat": 4,
 "nbformat_minor": 0
}
