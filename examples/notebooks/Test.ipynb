{
 "cells": [
  {
   "cell_type": "code",
   "execution_count": 1,
   "metadata": {
    "collapsed": true
   },
   "outputs": [],
   "source": [
    "import datacube"
   ]
  },
  {
   "cell_type": "code",
   "execution_count": 2,
   "metadata": {
    "collapsed": true
   },
   "outputs": [],
   "source": [
    "dc = datacube.Datacube(config='~/.datacube.conf')"
   ]
  },
  {
   "cell_type": "code",
   "execution_count": 3,
   "metadata": {
    "collapsed": false
   },
   "outputs": [
    {
     "data": {
      "text/plain": [
       "Datacube<index=Index<db=PostgresDb<engine=Engine(postgresql://rishabh@:5432/datacube)>>>"
      ]
     },
     "execution_count": 3,
     "metadata": {},
     "output_type": "execute_result"
    }
   ],
   "source": [
    "dc"
   ]
  },
  {
   "cell_type": "code",
   "execution_count": 4,
   "metadata": {
    "collapsed": false
   },
   "outputs": [
    {
     "data": {
      "text/html": [
       "<div>\n",
       "<table border=\"1\" class=\"dataframe\">\n",
       "  <thead>\n",
       "    <tr style=\"text-align: right;\">\n",
       "      <th></th>\n",
       "      <th>name</th>\n",
       "      <th>description</th>\n",
       "      <th>platform</th>\n",
       "      <th>product_type</th>\n",
       "      <th>instrument</th>\n",
       "      <th>format</th>\n",
       "      <th>crs</th>\n",
       "      <th>resolution</th>\n",
       "      <th>tile_size</th>\n",
       "      <th>spatial_dimensions</th>\n",
       "    </tr>\n",
       "    <tr>\n",
       "      <th>id</th>\n",
       "      <th></th>\n",
       "      <th></th>\n",
       "      <th></th>\n",
       "      <th></th>\n",
       "      <th></th>\n",
       "      <th></th>\n",
       "      <th></th>\n",
       "      <th></th>\n",
       "      <th></th>\n",
       "      <th></th>\n",
       "    </tr>\n",
       "  </thead>\n",
       "  <tbody>\n",
       "    <tr>\n",
       "      <th>1</th>\n",
       "      <td>ls8_ledaps_scene</td>\n",
       "      <td>Landsat 8 LEDAPS 25 metre</td>\n",
       "      <td>LANDSAT_8</td>\n",
       "      <td>LEDAPS</td>\n",
       "      <td>OLI_TIRS</td>\n",
       "      <td>GeoTiff</td>\n",
       "      <td>NaN</td>\n",
       "      <td>NaN</td>\n",
       "      <td>NaN</td>\n",
       "      <td>NaN</td>\n",
       "    </tr>\n",
       "    <tr>\n",
       "      <th>2</th>\n",
       "      <td>ls8_ledaps_albers</td>\n",
       "      <td>Landsat 8 LEDAPS 25 metre, 100km tile, Austral...</td>\n",
       "      <td>LANDSAT_8</td>\n",
       "      <td>LEDAPS</td>\n",
       "      <td>OLI_TIRS</td>\n",
       "      <td>NetCDF</td>\n",
       "      <td>EPSG:3577</td>\n",
       "      <td>[-25, 25]</td>\n",
       "      <td>[100000.0, 100000.0]</td>\n",
       "      <td>(y, x)</td>\n",
       "    </tr>\n",
       "  </tbody>\n",
       "</table>\n",
       "</div>"
      ],
      "text/plain": [
       "                 name                                        description  \\\n",
       "id                                                                         \n",
       "1    ls8_ledaps_scene                          Landsat 8 LEDAPS 25 metre   \n",
       "2   ls8_ledaps_albers  Landsat 8 LEDAPS 25 metre, 100km tile, Austral...   \n",
       "\n",
       "     platform product_type instrument   format        crs resolution  \\\n",
       "id                                                                     \n",
       "1   LANDSAT_8       LEDAPS   OLI_TIRS  GeoTiff        NaN        NaN   \n",
       "2   LANDSAT_8       LEDAPS   OLI_TIRS   NetCDF  EPSG:3577  [-25, 25]   \n",
       "\n",
       "               tile_size spatial_dimensions  \n",
       "id                                           \n",
       "1                    NaN                NaN  \n",
       "2   [100000.0, 100000.0]             (y, x)  "
      ]
     },
     "execution_count": 4,
     "metadata": {},
     "output_type": "execute_result"
    }
   ],
   "source": [
    "dc.list_products()"
   ]
  },
  {
   "cell_type": "code",
   "execution_count": 5,
   "metadata": {
    "collapsed": true
   },
   "outputs": [],
   "source": [
    "var = dc.load(product = 'ls8_ledaps_albers',\n",
    "              x = (78.0, 78.05),\n",
    "              y = (31.0, 31.05))"
   ]
  },
  {
   "cell_type": "code",
   "execution_count": 6,
   "metadata": {
    "collapsed": false
   },
   "outputs": [
    {
     "data": {
      "text/plain": [
       "<xarray.Dataset>\n",
       "Dimensions:  (time: 1, x: 322, y: 254)\n",
       "Coordinates:\n",
       "  * time     (time) datetime64[ns] 2015-02-12T05:17:41\n",
       "  * y        (y) float64 1.164e+06 1.164e+06 1.164e+06 1.164e+06 1.164e+06 ...\n",
       "  * x        (x) float64 -7.472e+06 -7.472e+06 -7.472e+06 -7.472e+06 ...\n",
       "Data variables:\n",
       "    blue     (time, y, x) int16 7247 7247 7243 7243 7232 7232 7229 7351 7351 ...\n",
       "    green    (time, y, x) int16 6408 6408 6321 6321 6334 6334 6296 6370 6370 ...\n",
       "    red      (time, y, x) int16 5858 5858 5820 5820 5851 5851 5809 5873 5873 ...\n",
       "    nir      (time, y, x) int16 6899 6899 6412 6412 6660 6660 6083 6031 6031 ...\n",
       "    swir1    (time, y, x) int16 5771 5771 5530 5530 5672 5672 5421 5352 5352 ...\n",
       "Attributes:\n",
       "    crs: EPSG:3577"
      ]
     },
     "execution_count": 6,
     "metadata": {},
     "output_type": "execute_result"
    }
   ],
   "source": [
    "var"
   ]
  },
  {
   "cell_type": "code",
   "execution_count": 7,
   "metadata": {
    "collapsed": true
   },
   "outputs": [],
   "source": [
    "green  = var.green"
   ]
  },
  {
   "cell_type": "code",
   "execution_count": 8,
   "metadata": {
    "collapsed": false
   },
   "outputs": [
    {
     "data": {
      "text/plain": [
       "<xarray.DataArray 'green' (time: 1, y: 254, x: 322)>\n",
       "array([[[6408, 6408, 6321, ..., 8167, 8140, 8140],\n",
       "        [6262, 6300, 6280, ..., 8274, 8304, 8304],\n",
       "        [6256, 6256, 6256, ..., 8251, 8059, 7681],\n",
       "        ..., \n",
       "        [7062, 7027, 7027, ..., 7608, 7597, 7597],\n",
       "        [7103, 6984, 6984, ..., 7117, 6872, 6616],\n",
       "        [6859, 6859, 6957, ..., 6739, 6739, 6596]]], dtype=int16)\n",
       "Coordinates:\n",
       "  * time     (time) datetime64[ns] 2015-02-12T05:17:41\n",
       "  * y        (y) float64 1.164e+06 1.164e+06 1.164e+06 1.164e+06 1.164e+06 ...\n",
       "  * x        (x) float64 -7.472e+06 -7.472e+06 -7.472e+06 -7.472e+06 ...\n",
       "Attributes:\n",
       "    units: 1\n",
       "    spectral_definition: {u'wavelength': [512, 513, 514, 515, 516, 517, 518, 519, 520, 521, 522, 523, 524, 525, 526, 527, 528, 529, 530, 531, 532, 533, 534, 535, 536, 537, 538, 539, 540, 541, 542, 543, 544, 545, 546, 547, 548, 549, 550, 551, 552, 553, 554, 555, 556, 557, 558, 559, 560, 561, 562, 563, 564, 565, 566, 567, 568, 569, 570, 571, 572, 573, 574, 575, 576, 577, 578, 579, 580, 581, 582, 583, 584, 585, 586, 587, 588, 589, 590, 591, 592, 593, 594, 595, 596, 597, 598, 599, 600, 601, 602, 603, 604, 605, 606, 607, ...\n",
       "    nodata: -9999"
      ]
     },
     "execution_count": 8,
     "metadata": {},
     "output_type": "execute_result"
    }
   ],
   "source": [
    "green"
   ]
  },
  {
   "cell_type": "code",
   "execution_count": 9,
   "metadata": {
    "collapsed": false
   },
   "outputs": [
    {
     "data": {
      "text/plain": [
       "(1, 254, 322)"
      ]
     },
     "execution_count": 9,
     "metadata": {},
     "output_type": "execute_result"
    }
   ],
   "source": [
    "a = green.loc['2015']\n",
    "a.shape"
   ]
  },
  {
   "cell_type": "code",
   "execution_count": 10,
   "metadata": {
    "collapsed": false
   },
   "outputs": [
    {
     "name": "stderr",
     "output_type": "stream",
     "text": [
      "/usr/local/lib/python2.7/dist-packages/matplotlib-2.0.0b1-py2.7-linux-i686.egg/matplotlib/font_manager.py:279: UserWarning: Matplotlib is building the font cache using fc-list. This may take a moment.\n",
      "  warnings.warn('Matplotlib is building the font cache using fc-list. This may take a moment.')\n"
     ]
    },
    {
     "data": {
      "text/plain": [
       "<matplotlib.collections.QuadMesh at 0x97e6a3ec>"
      ]
     },
     "execution_count": 10,
     "metadata": {},
     "output_type": "execute_result"
    }
   ],
   "source": [
    "a.plot()\n"
   ]
  },
  {
   "cell_type": "code",
   "execution_count": null,
   "metadata": {
    "collapsed": true
   },
   "outputs": [],
   "source": []
  }
 ],
 "metadata": {
  "kernelspec": {
   "display_name": "Python 2",
   "language": "python",
   "name": "python2"
  },
  "language_info": {
   "codemirror_mode": {
    "name": "ipython",
    "version": 2
   },
   "file_extension": ".py",
   "mimetype": "text/x-python",
   "name": "python",
   "nbconvert_exporter": "python",
   "pygments_lexer": "ipython2",
   "version": "2.7.11+"
  }
 },
 "nbformat": 4,
 "nbformat_minor": 0
}
